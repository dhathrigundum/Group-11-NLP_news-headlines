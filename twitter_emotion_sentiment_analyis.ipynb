{
  "nbformat": 4,
  "nbformat_minor": 0,
  "metadata": {
    "colab": {
      "name": "twitter_emotion_sentiment-analyis.ipynb",
      "provenance": [],
      "collapsed_sections": []
    },
    "kernelspec": {
      "display_name": "Python 3",
      "name": "python3"
    },
    "language_info": {
      "name": "python"
    }
  },
  "cells": [
    {
      "cell_type": "markdown",
      "metadata": {
        "id": "YIbbvnrZx0aR"
      },
      "source": [
        "**Twitter Dataset Emotional Analysis**"
      ]
    },
    {
      "cell_type": "code",
      "metadata": {
        "id": "4dC4YlGUk0M8"
      },
      "source": [
        "#importing few required libraries\n",
        "!pip install tweet-preprocessor 2>/dev/null 1>/dev/null\n",
        "import preprocessor as p\n",
        "import numpy as np \n",
        "import pandas as pd \n",
        "import keras\n",
        "from sklearn.model_selection import train_test_split\n",
        "import tensorflow as tf\n",
        "from keras.models import Sequential\n",
        "from keras.layers.recurrent import LSTM, GRU,SimpleRNN\n",
        "from keras.layers.core import Dense, Activation, Dropout\n",
        "from keras.layers.embeddings import Embedding\n",
        "from keras.utils import np_utils\n",
        "from sklearn import preprocessing, decomposition, model_selection, metrics, pipeline\n",
        "from keras.layers import GlobalMaxPooling1D, Conv1D, MaxPooling1D, Flatten, Bidirectional, SpatialDropout1D\n",
        "from keras.preprocessing import sequence, text\n",
        "from keras.callbacks import EarlyStopping\n",
        "from sklearn.preprocessing import LabelEncoder,OneHotEncoder\n",
        "import plotly.graph_objects as go\n",
        "import plotly.express as px\n",
        "from tensorflow.keras.layers import Dense, Input\n",
        "from tensorflow.keras.optimizers import Adam\n",
        "from tensorflow.keras.models import Model\n",
        "from tensorflow.keras.callbacks import ModelCheckpoint\n",
        "from tqdm.notebook import tqdm\n",
        "from tqdm import tqdm"
      ],
      "execution_count": null,
      "outputs": []
    },
    {
      "cell_type": "code",
      "metadata": {
        "colab": {
          "base_uri": "https://localhost:8080/"
        },
        "id": "FKrHi66R0ZUo",
        "outputId": "5d46062f-d6e7-48b3-ef95-13a667007ae3"
      },
      "source": [
        "#data preparation, taking the data set for cleaning purpose for sentiment analysis\n",
        "data1 = pd.read_csv(\"text_emotion.csv\")\n",
        "misspell_data = pd.read_csv(\"text_emotion.csv\",sep=\":\",names=[\"correction\",\"misspell\"])\n",
        "misspell_data.misspell = misspell_data.misspell.str.strip()\n",
        "misspell_data.misspell = misspell_data.misspell.str.split(\" \")\n",
        "misspell_data = misspell_data.explode(\"misspell\").reset_index(drop=True)\n",
        "misspell_data.drop_duplicates(\"misspell\",inplace=True)\n",
        "miss_corr = dict(zip(misspell_data.misspell, misspell_data.correction))\n",
        "\n",
        "#Sample of the dict\n",
        "{v:miss_corr[v] for v in [list(miss_corr.keys())[k] for k in range(20)]}"
      ],
      "execution_count": null,
      "outputs": [
        {
          "output_type": "execute_result",
          "data": {
            "text/plain": [
              "{'#topicmaps': '1956972116,neutral,jansc,No Topic Maps talks at the Balisage Markup Conference 2009   Program online at http',\n",
              " '(via': '1956972116,neutral,jansc,No Topic Maps talks at the Balisage Markup Conference 2009   Program online at http',\n",
              " '//plurk.com/p/wxidk': '1956975876,neutral,jubaldo,feels strong contractions but wants to go out.  http',\n",
              " '//tr.im/mL6Z': '1956972116,neutral,jansc,No Topic Maps talks at the Balisage Markup Conference 2009   Program online at http',\n",
              " '//www.djhero.com/': '1956968636,worry,mcsleazy,Hmmm. http',\n",
              " '@bobdc)': '1956972116,neutral,jansc,No Topic Maps talks at the Balisage Markup Conference 2009   Program online at http',\n",
              " 'BC': '1956968477,worry,xxxPEACHESxxx,Re-pinging @ghostridah14',\n",
              " 'bf': '1956968477,worry,xxxPEACHESxxx,Re-pinging @ghostridah14',\n",
              " \"didn't\": '1956968477,worry,xxxPEACHESxxx,Re-pinging @ghostridah14',\n",
              " 'down': '1956968636,worry,mcsleazy,Hmmm. http',\n",
              " 'friends': '1956968477,worry,xxxPEACHESxxx,Re-pinging @ghostridah14',\n",
              " 'go': '1956968477,worry,xxxPEACHESxxx,Re-pinging @ghostridah14',\n",
              " 'is': '1956968636,worry,mcsleazy,Hmmm. http',\n",
              " 'like': '1956968477,worry,xxxPEACHESxxx,Re-pinging @ghostridah14',\n",
              " 'my': '1956968477,worry,xxxPEACHESxxx,Re-pinging @ghostridah14',\n",
              " nan: 'tweet_id,sentiment,author,content',\n",
              " 'prom?': '1956968477,worry,xxxPEACHESxxx,Re-pinging @ghostridah14',\n",
              " 'to': '1956968477,worry,xxxPEACHESxxx,Re-pinging @ghostridah14',\n",
              " 'why': '1956968477,worry,xxxPEACHESxxx,Re-pinging @ghostridah14',\n",
              " 'you': '1956968477,worry,xxxPEACHESxxx,Re-pinging @ghostridah14'}"
            ]
          },
          "metadata": {},
          "execution_count": 26
        }
      ]
    },
    {
      "cell_type": "code",
      "metadata": {
        "id": "3KAScyZY0jHJ"
      },
      "source": [
        "#using this function we are removing the missplled words ex:- 'acord': 'accord' (few are listed above)\n",
        "def misspelled_correction(val):\n",
        "    for x in val.split(): \n",
        "        if x in miss_corr.keys(): \n",
        "            val = val.replace(x, miss_corr[x]) \n",
        "    return val"
      ],
      "execution_count": null,
      "outputs": []
    },
    {
      "cell_type": "code",
      "metadata": {
        "id": "WYZ_xltA-Wq5"
      },
      "source": [
        "#cleaning the data i.e making corrections to the mispelled data\n",
        "data1[\"clean_content\"] = data1.content.apply(lambda x : misspelled_correction(x))"
      ],
      "execution_count": null,
      "outputs": []
    },
    {
      "cell_type": "code",
      "metadata": {
        "colab": {
          "base_uri": "https://localhost:8080/"
        },
        "id": "1nr89ObI0-Ga",
        "outputId": "ac67273c-7b29-4def-cd06-420df8932c83"
      },
      "source": [
        "#importing/installing contractions library\n",
        "import sys  \n",
        "!{sys.executable} -m pip install contractions"
      ],
      "execution_count": null,
      "outputs": [
        {
          "output_type": "stream",
          "name": "stdout",
          "text": [
            "Collecting contractions\n",
            "  Downloading contractions-0.0.58-py2.py3-none-any.whl (8.0 kB)\n",
            "Collecting textsearch>=0.0.21\n",
            "  Downloading textsearch-0.0.21-py2.py3-none-any.whl (7.5 kB)\n",
            "Collecting anyascii\n",
            "  Downloading anyascii-0.3.0-py3-none-any.whl (284 kB)\n",
            "\u001b[K     |████████████████████████████████| 284 kB 5.4 MB/s \n",
            "\u001b[?25hCollecting pyahocorasick\n",
            "  Downloading pyahocorasick-1.4.2.tar.gz (321 kB)\n",
            "\u001b[K     |████████████████████████████████| 321 kB 46.9 MB/s \n",
            "\u001b[?25hBuilding wheels for collected packages: pyahocorasick\n",
            "  Building wheel for pyahocorasick (setup.py) ... \u001b[?25l\u001b[?25hdone\n",
            "  Created wheel for pyahocorasick: filename=pyahocorasick-1.4.2-cp37-cp37m-linux_x86_64.whl size=85453 sha256=dd235426e00896932cbe8c1b4903a968c04dd4d8c0bdb2cc2965f2113bf86a9b\n",
            "  Stored in directory: /root/.cache/pip/wheels/25/19/a6/8f363d9939162782bb8439d886469756271abc01f76fbd790f\n",
            "Successfully built pyahocorasick\n",
            "Installing collected packages: pyahocorasick, anyascii, textsearch, contractions\n",
            "Successfully installed anyascii-0.3.0 contractions-0.0.58 pyahocorasick-1.4.2 textsearch-0.0.21\n"
          ]
        }
      ]
    },
    {
      "cell_type": "code",
      "metadata": {
        "id": "nhaHN8ih2Laj"
      },
      "source": [
        "#logic for contractions i.e replacing the contractions with its relavent meaning Ex:- I'll be --> I will be \n",
        "contractions = pd.read_csv(\"contractions.csv\")\n",
        "index=0\n",
        "limit = 10000\n",
        "con =[]\n",
        "for i in contractions.Contraction :\n",
        "  for word in i.split():\n",
        "    con.append(word) \n",
        "  \n",
        "  index += 1\n",
        "  if index == limit:\n",
        "    break\n",
        "\n",
        "for word in con:\n",
        "  con1 = contractions\n",
        "\n",
        "cont_dic = dict(zip(contractions.Contraction, contractions.Meaning))"
      ],
      "execution_count": null,
      "outputs": []
    },
    {
      "cell_type": "code",
      "metadata": {
        "id": "qcvpGj-GxEHa"
      },
      "source": [
        "#function which does it\n",
        "def cont_to_meaning(val): \n",
        "  \n",
        "    for x in val.split(): \n",
        "        if x in cont_dic.keys(): \n",
        "            val = val.replace(x, cont_dic[x]) \n",
        "    return val"
      ],
      "execution_count": null,
      "outputs": []
    },
    {
      "cell_type": "code",
      "metadata": {
        "id": "G96wCqk6-HV9"
      },
      "source": [
        "#removing the contractions for the data in the dataset\n",
        "data1.clean_content = data1.clean_content.apply(lambda x : cont_to_meaning(x))"
      ],
      "execution_count": null,
      "outputs": []
    },
    {
      "cell_type": "code",
      "metadata": {
        "id": "x3Rp2o1L-JV8"
      },
      "source": [
        "#Removing some important charcters in the data like URLS and empty spaces etc. \n",
        "p.set_options(p.OPT.MENTION, p.OPT.URL)"
      ],
      "execution_count": null,
      "outputs": []
    },
    {
      "cell_type": "code",
      "metadata": {
        "id": "kE5VZ4BWAY_5"
      },
      "source": [
        "data1[\"clean_content\"]=data1.content.apply(lambda x : p.clean(x))"
      ],
      "execution_count": null,
      "outputs": []
    },
    {
      "cell_type": "code",
      "metadata": {
        "colab": {
          "base_uri": "https://localhost:8080/",
          "height": 35
        },
        "id": "NOX_nfiFAenP",
        "outputId": "1be95a4c-3938-47ee-a6de-127662539839"
      },
      "source": [
        "#this function uses to remove punctuations\n",
        "def punctuation(val): \n",
        "  \n",
        "    punctuations = '''()-[]{};:'\"\\,<>./@#$%^&_~'''\n",
        "  \n",
        "    for x in val.lower(): \n",
        "        if x in punctuations: \n",
        "            val = val.replace(x, \" \") \n",
        "    return val\n",
        "#testing with a small dataset\n",
        "punctuation(\"test @ #ldfldlf??? !! \")"
      ],
      "execution_count": null,
      "outputs": [
        {
          "output_type": "execute_result",
          "data": {
            "application/vnd.google.colaboratory.intrinsic+json": {
              "type": "string"
            },
            "text/plain": [
              "'test    ldfldlf??? !! '"
            ]
          },
          "metadata": {},
          "execution_count": 35
        }
      ]
    },
    {
      "cell_type": "code",
      "metadata": {
        "colab": {
          "base_uri": "https://localhost:8080/"
        },
        "id": "u_Fqij_UDqRY",
        "outputId": "2fd88a58-3b0e-4709-92c9-b500175110c6"
      },
      "source": [
        "#installing emoji library\n",
        "!pip install emoji"
      ],
      "execution_count": null,
      "outputs": [
        {
          "output_type": "stream",
          "name": "stdout",
          "text": [
            "Collecting emoji\n",
            "  Downloading emoji-1.6.1.tar.gz (170 kB)\n",
            "\u001b[?25l\r\u001b[K     |██                              | 10 kB 24.7 MB/s eta 0:00:01\r\u001b[K     |███▉                            | 20 kB 31.1 MB/s eta 0:00:01\r\u001b[K     |█████▉                          | 30 kB 13.4 MB/s eta 0:00:01\r\u001b[K     |███████▊                        | 40 kB 10.2 MB/s eta 0:00:01\r\u001b[K     |█████████▋                      | 51 kB 5.4 MB/s eta 0:00:01\r\u001b[K     |███████████▋                    | 61 kB 6.1 MB/s eta 0:00:01\r\u001b[K     |█████████████▌                  | 71 kB 5.8 MB/s eta 0:00:01\r\u001b[K     |███████████████▍                | 81 kB 6.5 MB/s eta 0:00:01\r\u001b[K     |█████████████████▍              | 92 kB 4.8 MB/s eta 0:00:01\r\u001b[K     |███████████████████▎            | 102 kB 5.3 MB/s eta 0:00:01\r\u001b[K     |█████████████████████▏          | 112 kB 5.3 MB/s eta 0:00:01\r\u001b[K     |███████████████████████▏        | 122 kB 5.3 MB/s eta 0:00:01\r\u001b[K     |█████████████████████████       | 133 kB 5.3 MB/s eta 0:00:01\r\u001b[K     |███████████████████████████     | 143 kB 5.3 MB/s eta 0:00:01\r\u001b[K     |█████████████████████████████   | 153 kB 5.3 MB/s eta 0:00:01\r\u001b[K     |██████████████████████████████▉ | 163 kB 5.3 MB/s eta 0:00:01\r\u001b[K     |████████████████████████████████| 170 kB 5.3 MB/s \n",
            "\u001b[?25hBuilding wheels for collected packages: emoji\n",
            "  Building wheel for emoji (setup.py) ... \u001b[?25l\u001b[?25hdone\n",
            "  Created wheel for emoji: filename=emoji-1.6.1-py3-none-any.whl size=169314 sha256=035fd2331c8a2258b618906d4bab0bbdd4999322ae10ad59029c0b772d76bc8c\n",
            "  Stored in directory: /root/.cache/pip/wheels/ea/5f/d3/03d313ddb3c2a1a427bb4690f1621eea60fe6f2a30cc95940f\n",
            "Successfully built emoji\n",
            "Installing collected packages: emoji\n",
            "Successfully installed emoji-1.6.1\n"
          ]
        }
      ]
    },
    {
      "cell_type": "code",
      "metadata": {
        "id": "PmIS1SB3DI43"
      },
      "source": [
        "#removing the emojis in the data\n",
        "import emoji\n",
        "data1.clean_content = data1.clean_content.apply(lambda x : ' '.join(punctuation(emoji.demojize(x)).split()))"
      ],
      "execution_count": null,
      "outputs": []
    },
    {
      "cell_type": "code",
      "metadata": {
        "id": "UZUuHA7cDLod"
      },
      "source": [
        "#this function cleans(removing the misspelles, converting contractions) the words/characters in a sentence  and again joining the vales/keys to \n",
        "#to form a meaningfull sentecnce\n",
        "def clean_text(val):\n",
        "    val = misspelled_correction(val)\n",
        "    val = cont_to_meaning(val)\n",
        "    val = p.clean(val)\n",
        "    val = ' '.join(punctuation(emoji.demojize(val)).split())\n",
        "    \n",
        "    return val"
      ],
      "execution_count": null,
      "outputs": []
    },
    {
      "cell_type": "code",
      "metadata": {
        "id": "Rk4ZsYwLDXca"
      },
      "source": [
        "#Remove empty comments \n",
        "data1 = data1[data1.clean_content != \"\"]\n"
      ],
      "execution_count": null,
      "outputs": []
    },
    {
      "cell_type": "code",
      "metadata": {
        "colab": {
          "base_uri": "https://localhost:8080/"
        },
        "id": "XyPOXY8sMKka",
        "outputId": "09091bdb-9eac-4d57-c1f2-49bbacd54a7a"
      },
      "source": [
        "# Here we are using 12 different emotions as listed below\n",
        "#12 emotions are (neutral, worry, happiness, sadness, love, surprise, fun, relief, hate, empty, enthusiasm, boredom and anger) \n",
        "#and the goal of it take a given sentence and find each of emotional percentages.\n",
        "data1.sentiment.value_counts()\n"
      ],
      "execution_count": null,
      "outputs": [
        {
          "output_type": "execute_result",
          "data": {
            "text/plain": [
              "neutral       8638\n",
              "worry         8459\n",
              "happiness     5209\n",
              "sadness       5165\n",
              "love          3842\n",
              "surprise      2187\n",
              "fun           1776\n",
              "relief        1526\n",
              "hate          1323\n",
              "empty          827\n",
              "enthusiasm     759\n",
              "boredom        179\n",
              "anger          110\n",
              "Name: sentiment, dtype: int64"
            ]
          },
          "metadata": {},
          "execution_count": 40
        }
      ]
    },
    {
      "cell_type": "code",
      "metadata": {
        "id": "gRbY8ZXrMP9n"
      },
      "source": [
        "#setting an id to each of the emotion\n",
        "sent_to_id  = {\"empty\":0, \"sadness\":1,\"enthusiasm\":2,\"neutral\":3,\"worry\":4,\n",
        "                        \"surprise\":5,\"love\":6,\"fun\":7,\"hate\":8,\"happiness\":9,\"boredom\":10,\"relief\":11,\"anger\":12}"
      ],
      "execution_count": null,
      "outputs": []
    },
    {
      "cell_type": "code",
      "metadata": {
        "id": "JU746tn_Mjqk"
      },
      "source": [
        "#setting the id to each headline based on there emotion\n",
        "data1[\"sentiment_id\"] = data1['sentiment'].map(sent_to_id)\n"
      ],
      "execution_count": null,
      "outputs": []
    },
    {
      "cell_type": "code",
      "metadata": {
        "colab": {
          "base_uri": "https://localhost:8080/",
          "height": 580
        },
        "id": "wO4sHKOBMlMH",
        "outputId": "6b0c3bd0-f524-44b4-8ffb-9ea1c4de7b70"
      },
      "source": [
        "data"
      ],
      "execution_count": null,
      "outputs": [
        {
          "output_type": "execute_result",
          "data": {
            "text/html": [
              "<div>\n",
              "<style scoped>\n",
              "    .dataframe tbody tr th:only-of-type {\n",
              "        vertical-align: middle;\n",
              "    }\n",
              "\n",
              "    .dataframe tbody tr th {\n",
              "        vertical-align: top;\n",
              "    }\n",
              "\n",
              "    .dataframe thead th {\n",
              "        text-align: right;\n",
              "    }\n",
              "</style>\n",
              "<table border=\"1\" class=\"dataframe\">\n",
              "  <thead>\n",
              "    <tr style=\"text-align: right;\">\n",
              "      <th></th>\n",
              "      <th>publish_date</th>\n",
              "      <th>headline_text</th>\n",
              "      <th>year</th>\n",
              "      <th>month</th>\n",
              "      <th>date</th>\n",
              "      <th>word_count</th>\n",
              "      <th>char_count</th>\n",
              "      <th>mean_word_length</th>\n",
              "      <th>punctuation_count</th>\n",
              "      <th>stop_word_count</th>\n",
              "    </tr>\n",
              "  </thead>\n",
              "  <tbody>\n",
              "    <tr>\n",
              "      <th>0</th>\n",
              "      <td>20030219</td>\n",
              "      <td>aba decides against community broadcasting lic...</td>\n",
              "      <td>2003</td>\n",
              "      <td>2</td>\n",
              "      <td>19</td>\n",
              "      <td>50</td>\n",
              "      <td>50</td>\n",
              "      <td>7.500000</td>\n",
              "      <td>0</td>\n",
              "      <td>1</td>\n",
              "    </tr>\n",
              "    <tr>\n",
              "      <th>1</th>\n",
              "      <td>20030219</td>\n",
              "      <td>act fire witnesses must be aware of defamation</td>\n",
              "      <td>2003</td>\n",
              "      <td>2</td>\n",
              "      <td>19</td>\n",
              "      <td>46</td>\n",
              "      <td>46</td>\n",
              "      <td>4.875000</td>\n",
              "      <td>0</td>\n",
              "      <td>2</td>\n",
              "    </tr>\n",
              "    <tr>\n",
              "      <th>2</th>\n",
              "      <td>20030219</td>\n",
              "      <td>a g calls for infrastructure protection summit</td>\n",
              "      <td>2003</td>\n",
              "      <td>2</td>\n",
              "      <td>19</td>\n",
              "      <td>46</td>\n",
              "      <td>46</td>\n",
              "      <td>5.714286</td>\n",
              "      <td>0</td>\n",
              "      <td>2</td>\n",
              "    </tr>\n",
              "    <tr>\n",
              "      <th>3</th>\n",
              "      <td>20030219</td>\n",
              "      <td>air nz staff in aust strike for pay rise</td>\n",
              "      <td>2003</td>\n",
              "      <td>2</td>\n",
              "      <td>19</td>\n",
              "      <td>40</td>\n",
              "      <td>40</td>\n",
              "      <td>3.555556</td>\n",
              "      <td>0</td>\n",
              "      <td>2</td>\n",
              "    </tr>\n",
              "    <tr>\n",
              "      <th>4</th>\n",
              "      <td>20030219</td>\n",
              "      <td>air nz strike to affect australian travellers</td>\n",
              "      <td>2003</td>\n",
              "      <td>2</td>\n",
              "      <td>19</td>\n",
              "      <td>45</td>\n",
              "      <td>45</td>\n",
              "      <td>5.571429</td>\n",
              "      <td>0</td>\n",
              "      <td>1</td>\n",
              "    </tr>\n",
              "    <tr>\n",
              "      <th>...</th>\n",
              "      <td>...</td>\n",
              "      <td>...</td>\n",
              "      <td>...</td>\n",
              "      <td>...</td>\n",
              "      <td>...</td>\n",
              "      <td>...</td>\n",
              "      <td>...</td>\n",
              "      <td>...</td>\n",
              "      <td>...</td>\n",
              "      <td>...</td>\n",
              "    </tr>\n",
              "    <tr>\n",
              "      <th>1226253</th>\n",
              "      <td>20201231</td>\n",
              "      <td>what abc readers learned from 2020 looking bac...</td>\n",
              "      <td>2020</td>\n",
              "      <td>12</td>\n",
              "      <td>31</td>\n",
              "      <td>59</td>\n",
              "      <td>59</td>\n",
              "      <td>4.454545</td>\n",
              "      <td>0</td>\n",
              "      <td>4</td>\n",
              "    </tr>\n",
              "    <tr>\n",
              "      <th>1226254</th>\n",
              "      <td>20201231</td>\n",
              "      <td>what are the south african and uk variants of ...</td>\n",
              "      <td>2020</td>\n",
              "      <td>12</td>\n",
              "      <td>31</td>\n",
              "      <td>54</td>\n",
              "      <td>54</td>\n",
              "      <td>4.000000</td>\n",
              "      <td>0</td>\n",
              "      <td>5</td>\n",
              "    </tr>\n",
              "    <tr>\n",
              "      <th>1226255</th>\n",
              "      <td>20201231</td>\n",
              "      <td>what victorias coronavirus restrictions mean f...</td>\n",
              "      <td>2020</td>\n",
              "      <td>12</td>\n",
              "      <td>31</td>\n",
              "      <td>62</td>\n",
              "      <td>62</td>\n",
              "      <td>6.000000</td>\n",
              "      <td>0</td>\n",
              "      <td>2</td>\n",
              "    </tr>\n",
              "    <tr>\n",
              "      <th>1226256</th>\n",
              "      <td>20201231</td>\n",
              "      <td>whats life like as an american doctor during c...</td>\n",
              "      <td>2020</td>\n",
              "      <td>12</td>\n",
              "      <td>31</td>\n",
              "      <td>50</td>\n",
              "      <td>50</td>\n",
              "      <td>4.666667</td>\n",
              "      <td>0</td>\n",
              "      <td>3</td>\n",
              "    </tr>\n",
              "    <tr>\n",
              "      <th>1226257</th>\n",
              "      <td>20201231</td>\n",
              "      <td>womens shed canberra reskilling unemployed pan...</td>\n",
              "      <td>2020</td>\n",
              "      <td>12</td>\n",
              "      <td>31</td>\n",
              "      <td>51</td>\n",
              "      <td>51</td>\n",
              "      <td>7.666667</td>\n",
              "      <td>0</td>\n",
              "      <td>0</td>\n",
              "    </tr>\n",
              "  </tbody>\n",
              "</table>\n",
              "<p>1226258 rows × 10 columns</p>\n",
              "</div>"
            ],
            "text/plain": [
              "         publish_date  ... stop_word_count\n",
              "0            20030219  ...               1\n",
              "1            20030219  ...               2\n",
              "2            20030219  ...               2\n",
              "3            20030219  ...               2\n",
              "4            20030219  ...               1\n",
              "...               ...  ...             ...\n",
              "1226253      20201231  ...               4\n",
              "1226254      20201231  ...               5\n",
              "1226255      20201231  ...               2\n",
              "1226256      20201231  ...               3\n",
              "1226257      20201231  ...               0\n",
              "\n",
              "[1226258 rows x 10 columns]"
            ]
          },
          "metadata": {},
          "execution_count": 43
        }
      ]
    },
    {
      "cell_type": "code",
      "metadata": {
        "id": "6P5KFmTENIcK"
      },
      "source": [
        "#importing the relavent libraries\n",
        "from sklearn.preprocessing import LabelEncoder\n",
        "from sklearn.preprocessing import OneHotEncoder"
      ],
      "execution_count": null,
      "outputs": []
    },
    {
      "cell_type": "code",
      "metadata": {
        "id": "wo75wDJfMosA"
      },
      "source": [
        "#using the label encoder to encode the data(for train and test data)\n",
        "label_encoder = LabelEncoder()\n",
        "integer_encoded = label_encoder.fit_transform(data1.sentiment_id)\n",
        "\n",
        "onehot_encoder = OneHotEncoder(sparse=False)\n",
        "integer_encoded = integer_encoded.reshape(len(integer_encoded), 1)\n",
        "Y = onehot_encoder.fit_transform(integer_encoded)"
      ],
      "execution_count": null,
      "outputs": []
    },
    {
      "cell_type": "code",
      "metadata": {
        "id": "2aA1wVxvNFeV"
      },
      "source": [
        "#splitting the data has test and train data to test our model after training it with training data\n",
        "from sklearn.model_selection import train_test_split\n",
        "X_train, X_test, y_train, y_test = train_test_split(data1.clean_content,Y, random_state=1995, test_size=0.2, shuffle=True)\n"
      ],
      "execution_count": null,
      "outputs": []
    },
    {
      "cell_type": "code",
      "metadata": {
        "colab": {
          "base_uri": "https://localhost:8080/",
          "height": 458
        },
        "id": "MLeEctl-OOuc",
        "outputId": "6363f96b-93ce-40c4-8d3f-230d45782d00"
      },
      "source": [
        "#view of the cleaned data with its emotion id\n",
        "data1"
      ],
      "execution_count": null,
      "outputs": [
        {
          "output_type": "execute_result",
          "data": {
            "text/html": [
              "<div>\n",
              "<style scoped>\n",
              "    .dataframe tbody tr th:only-of-type {\n",
              "        vertical-align: middle;\n",
              "    }\n",
              "\n",
              "    .dataframe tbody tr th {\n",
              "        vertical-align: top;\n",
              "    }\n",
              "\n",
              "    .dataframe thead th {\n",
              "        text-align: right;\n",
              "    }\n",
              "</style>\n",
              "<table border=\"1\" class=\"dataframe\">\n",
              "  <thead>\n",
              "    <tr style=\"text-align: right;\">\n",
              "      <th></th>\n",
              "      <th>tweet_id</th>\n",
              "      <th>sentiment</th>\n",
              "      <th>author</th>\n",
              "      <th>content</th>\n",
              "      <th>clean_content</th>\n",
              "      <th>sentiment_id</th>\n",
              "    </tr>\n",
              "  </thead>\n",
              "  <tbody>\n",
              "    <tr>\n",
              "      <th>0</th>\n",
              "      <td>1956967341</td>\n",
              "      <td>empty</td>\n",
              "      <td>xoshayzers</td>\n",
              "      <td>@tiffanylue i know  i was listenin to bad habi...</td>\n",
              "      <td>t1956976312 sadness amy xx ether rad1956976312...</td>\n",
              "      <td>0</td>\n",
              "    </tr>\n",
              "    <tr>\n",
              "      <th>1</th>\n",
              "      <td>1956967666</td>\n",
              "      <td>sadness</td>\n",
              "      <td>wannamama</td>\n",
              "      <td>Layin n bed with a headache  ughhhh...waitin o...</td>\n",
              "      <td>L1956989601 hate M0anique cayogial i wanted to...</td>\n",
              "      <td>1</td>\n",
              "    </tr>\n",
              "    <tr>\n",
              "      <th>2</th>\n",
              "      <td>1956967696</td>\n",
              "      <td>sadness</td>\n",
              "      <td>coolfunky</td>\n",
              "      <td>Funeral ceremony...gloomy friday...</td>\n",
              "      <td>1963424826 worry TRob55 Working I cannot wait ...</td>\n",
              "      <td>1</td>\n",
              "    </tr>\n",
              "    <tr>\n",
              "      <th>3</th>\n",
              "      <td>1956967789</td>\n",
              "      <td>enthusiasm</td>\n",
              "      <td>czareaquino</td>\n",
              "      <td>wants to hang out with friends SOON!</td>\n",
              "      <td>1961375665 neutral apesxessence flyguyvan can ...</td>\n",
              "      <td>2</td>\n",
              "    </tr>\n",
              "    <tr>\n",
              "      <th>4</th>\n",
              "      <td>1956968416</td>\n",
              "      <td>neutral</td>\n",
              "      <td>xkilljoyx</td>\n",
              "      <td>@dannycastillo We want to trade with someone w...</td>\n",
              "      <td>dannycastillo 1962332503 love crystalisgnar pa...</td>\n",
              "      <td>3</td>\n",
              "    </tr>\n",
              "    <tr>\n",
              "      <th>...</th>\n",
              "      <td>...</td>\n",
              "      <td>...</td>\n",
              "      <td>...</td>\n",
              "      <td>...</td>\n",
              "      <td>...</td>\n",
              "      <td>...</td>\n",
              "    </tr>\n",
              "    <tr>\n",
              "      <th>39995</th>\n",
              "      <td>1753918954</td>\n",
              "      <td>neutral</td>\n",
              "      <td>showMe_Heaven</td>\n",
              "      <td>@JohnLloydTaylor</td>\n",
              "      <td>JohnLloydTaylor</td>\n",
              "      <td>3</td>\n",
              "    </tr>\n",
              "    <tr>\n",
              "      <th>39996</th>\n",
              "      <td>1753919001</td>\n",
              "      <td>love</td>\n",
              "      <td>drapeaux</td>\n",
              "      <td>Happy Mothers Day  All my love</td>\n",
              "      <td>1750999670 surprise sarahsss sarahdope http 16...</td>\n",
              "      <td>6</td>\n",
              "    </tr>\n",
              "    <tr>\n",
              "      <th>39997</th>\n",
              "      <td>1753919005</td>\n",
              "      <td>love</td>\n",
              "      <td>JenniRox</td>\n",
              "      <td>Happy Mother's Day to all the mommies out ther...</td>\n",
              "      <td>1750999670 surpr1956968636 worry mcsleazy Hmmm...</td>\n",
              "      <td>6</td>\n",
              "    </tr>\n",
              "    <tr>\n",
              "      <th>39998</th>\n",
              "      <td>1753919043</td>\n",
              "      <td>happiness</td>\n",
              "      <td>ipdaman1</td>\n",
              "      <td>@niariley WASSUP BEAUTIFUL!!! FOLLOW ME!!  PEE...</td>\n",
              "      <td>niariley WASS1957082503 worry teenicky jessica...</td>\n",
              "      <td>9</td>\n",
              "    </tr>\n",
              "    <tr>\n",
              "      <th>39999</th>\n",
              "      <td>1753919049</td>\n",
              "      <td>love</td>\n",
              "      <td>Alpharalpha</td>\n",
              "      <td>@mopedronin bullet train from tokyo    the gf ...</td>\n",
              "      <td>mopedron1956976312 sadness amy xx ether radio ...</td>\n",
              "      <td>6</td>\n",
              "    </tr>\n",
              "  </tbody>\n",
              "</table>\n",
              "<p>40000 rows × 6 columns</p>\n",
              "</div>"
            ],
            "text/plain": [
              "         tweet_id  ... sentiment_id\n",
              "0      1956967341  ...            0\n",
              "1      1956967666  ...            1\n",
              "2      1956967696  ...            1\n",
              "3      1956967789  ...            2\n",
              "4      1956968416  ...            3\n",
              "...           ...  ...          ...\n",
              "39995  1753918954  ...            3\n",
              "39996  1753919001  ...            6\n",
              "39997  1753919005  ...            6\n",
              "39998  1753919043  ...            9\n",
              "39999  1753919049  ...            6\n",
              "\n",
              "[40000 rows x 6 columns]"
            ]
          },
          "metadata": {},
          "execution_count": 47
        }
      ]
    },
    {
      "cell_type": "code",
      "metadata": {
        "colab": {
          "base_uri": "https://localhost:8080/"
        },
        "id": "FNyolQYbP_uN",
        "outputId": "5f8d5c89-b1f2-4e73-bc85-adaef19fd3b4"
      },
      "source": [
        "#installing required library\n",
        "!pip install sequence"
      ],
      "execution_count": null,
      "outputs": [
        {
          "output_type": "stream",
          "name": "stdout",
          "text": [
            "Collecting sequence\n",
            "  Downloading sequence-0.3.4.tar.gz (5.4 kB)\n",
            "Collecting daytime\n",
            "  Downloading daytime-0.4.tar.gz (2.4 kB)\n",
            "Building wheels for collected packages: sequence, daytime\n",
            "  Building wheel for sequence (setup.py) ... \u001b[?25l\u001b[?25hdone\n",
            "  Created wheel for sequence: filename=sequence-0.3.4-py3-none-any.whl size=5415 sha256=67e30ea2879810ebace4685f44c02781ff9532ab77d29fef5c9e391eafb0be82\n",
            "  Stored in directory: /root/.cache/pip/wheels/86/0f/5f/c8f0008d7a90c4511ea066fcabf9afa18194ae7644ec937d02\n",
            "  Building wheel for daytime (setup.py) ... \u001b[?25l\u001b[?25hdone\n",
            "  Created wheel for daytime: filename=daytime-0.4-py3-none-any.whl size=2418 sha256=e0f27f16781ff1ac3b3a0630f22c6d58ce190da22abbd69a7a5c8ea37ceb7904\n",
            "  Stored in directory: /root/.cache/pip/wheels/3c/fa/b5/121fe6d709bf3a89a03512710454c10382c49eb6bbc3577b22\n",
            "Successfully built sequence daytime\n",
            "Installing collected packages: daytime, sequence\n",
            "Successfully installed daytime-0.4 sequence-0.3.4\n"
          ]
        }
      ]
    },
    {
      "cell_type": "code",
      "metadata": {
        "id": "8gzUwXiyN1dX"
      },
      "source": [
        "#LSTM\n",
        "# using keras tokenizer here\n",
        "import keras\n",
        "from keras import preprocessing\n",
        "import tokenize\n",
        "from keras.preprocessing.text import Tokenizer\n",
        "import sequence\n",
        "token = Tokenizer(num_words=None)\n",
        "max_len = 160\n",
        "Epoch = 5\n",
        "token.fit_on_texts(list(X_train) + list(X_test))\n",
        "X_train_pad = keras.preprocessing.sequence.pad_sequences(token.texts_to_sequences(X_train), maxlen=max_len)\n",
        "X_test_pad = keras.preprocessing.sequence.pad_sequences(token.texts_to_sequences(X_test), maxlen=max_len)"
      ],
      "execution_count": null,
      "outputs": []
    },
    {
      "cell_type": "code",
      "metadata": {
        "id": "H_QJ7PnVM7cC"
      },
      "source": [
        "#word index\n",
        "w_idx = token.word_index"
      ],
      "execution_count": null,
      "outputs": []
    },
    {
      "cell_type": "code",
      "metadata": {
        "colab": {
          "base_uri": "https://localhost:8080/"
        },
        "id": "FWOthXK4VT50",
        "outputId": "36339563-a6e2-48c1-ffe9-79b095a5b489"
      },
      "source": [
        "#installing embeddings and importing it\n",
        "!pip install Embeddings\n",
        "import embeddings"
      ],
      "execution_count": null,
      "outputs": [
        {
          "output_type": "stream",
          "name": "stdout",
          "text": [
            "Collecting Embeddings\n",
            "  Downloading embeddings-0.0.8-py3-none-any.whl (12 kB)\n",
            "Requirement already satisfied: requests in /usr/local/lib/python3.7/dist-packages (from Embeddings) (2.23.0)\n",
            "Requirement already satisfied: tqdm in /usr/local/lib/python3.7/dist-packages (from Embeddings) (4.62.3)\n",
            "Requirement already satisfied: numpy in /usr/local/lib/python3.7/dist-packages (from Embeddings) (1.19.5)\n",
            "Requirement already satisfied: idna<3,>=2.5 in /usr/local/lib/python3.7/dist-packages (from requests->Embeddings) (2.10)\n",
            "Requirement already satisfied: certifi>=2017.4.17 in /usr/local/lib/python3.7/dist-packages (from requests->Embeddings) (2021.10.8)\n",
            "Requirement already satisfied: chardet<4,>=3.0.2 in /usr/local/lib/python3.7/dist-packages (from requests->Embeddings) (3.0.4)\n",
            "Requirement already satisfied: urllib3!=1.25.0,!=1.25.1,<1.26,>=1.21.1 in /usr/local/lib/python3.7/dist-packages (from requests->Embeddings) (1.24.3)\n",
            "Installing collected packages: Embeddings\n",
            "Successfully installed Embeddings-0.0.8\n"
          ]
        }
      ]
    },
    {
      "cell_type": "code",
      "metadata": {
        "colab": {
          "base_uri": "https://localhost:8080/"
        },
        "id": "dssSVaqNOKcE",
        "outputId": "9625d1ac-d40e-4abe-bbba-23e7fca5a020"
      },
      "source": [
        "import embeddings\n",
        "from keras.layers import Embedding,Dense,SpatialDropout1D,LSTM,core\n",
        "from tensorflow import keras\n",
        "embed_dim = 160\n",
        "lstm_out = 250\n",
        "\n",
        "model = keras.Sequential()\n",
        "model.add(Embedding(len(w_idx) +1 , embed_dim,input_length = X_test_pad.shape[1]))\n",
        "model.add(SpatialDropout1D(0.2))\n",
        "model.add(LSTM(lstm_out, dropout=0.2, recurrent_dropout=0.2))\n",
        "model.add(keras.layers.Dense(13, activation='softmax'))\n",
        "#adam rmsprop \n",
        "model.compile(loss = \"categorical_crossentropy\", optimizer='adam',metrics = ['accuracy'])\n",
        "print(model.summary())"
      ],
      "execution_count": null,
      "outputs": [
        {
          "output_type": "stream",
          "name": "stdout",
          "text": [
            "Model: \"sequential\"\n",
            "_________________________________________________________________\n",
            " Layer (type)                Output Shape              Param #   \n",
            "=================================================================\n",
            " embedding (Embedding)       (None, 160, 160)          11571520  \n",
            "                                                                 \n",
            " spatial_dropout1d (SpatialD  (None, 160, 160)         0         \n",
            " ropout1D)                                                       \n",
            "                                                                 \n",
            " lstm (LSTM)                 (None, 250)               411000    \n",
            "                                                                 \n",
            " dense (Dense)               (None, 13)                3263      \n",
            "                                                                 \n",
            "=================================================================\n",
            "Total params: 11,985,783\n",
            "Trainable params: 11,985,783\n",
            "Non-trainable params: 0\n",
            "_________________________________________________________________\n",
            "None\n"
          ]
        }
      ]
    },
    {
      "cell_type": "code",
      "metadata": {
        "id": "2746b_2TU7IS"
      },
      "source": [
        "batch_size = 32"
      ],
      "execution_count": null,
      "outputs": []
    },
    {
      "cell_type": "code",
      "metadata": {
        "colab": {
          "base_uri": "https://localhost:8080/"
        },
        "id": "PkWoAEeuSJq8",
        "outputId": "dbdd6077-f983-48f0-a46d-ff0148910064"
      },
      "source": [
        "#training the model\n",
        "model.fit(X_train_pad, y_train, epochs = Epoch, batch_size=batch_size,validation_data=(X_test_pad, y_test))"
      ],
      "execution_count": null,
      "outputs": [
        {
          "output_type": "stream",
          "name": "stdout",
          "text": [
            "Epoch 1/5\n",
            "1000/1000 [==============================] - 1324s 1s/step - loss: 2.1313 - accuracy: 0.2443 - val_loss: 2.0981 - val_accuracy: 0.2567\n",
            "Epoch 2/5\n",
            "1000/1000 [==============================] - 1316s 1s/step - loss: 1.9911 - accuracy: 0.3138 - val_loss: 2.0757 - val_accuracy: 0.2754\n",
            "Epoch 3/5\n",
            "1000/1000 [==============================] - 1318s 1s/step - loss: 1.6751 - accuracy: 0.4377 - val_loss: 2.2286 - val_accuracy: 0.2522\n",
            "Epoch 4/5\n",
            "1000/1000 [==============================] - 1315s 1s/step - loss: 1.3273 - accuracy: 0.5523 - val_loss: 2.4589 - val_accuracy: 0.2467\n",
            "Epoch 5/5\n",
            "1000/1000 [==============================] - 1311s 1s/step - loss: 1.0753 - accuracy: 0.6328 - val_loss: 2.7095 - val_accuracy: 0.2304\n"
          ]
        },
        {
          "output_type": "execute_result",
          "data": {
            "text/plain": [
              "<keras.callbacks.History at 0x7fb80c164b10>"
            ]
          },
          "metadata": {},
          "execution_count": 54
        }
      ]
    },
    {
      "cell_type": "code",
      "metadata": {
        "id": "HTwPebGNSLoL"
      },
      "source": [
        "#creating a function to get the sentiment of the data/sentence \n",
        "def get_sentiment(model,text):\n",
        "    text = clean_text(text)\n",
        "    #tokenize\n",
        "    twt = token.texts_to_sequences([text])\n",
        "    twt = sequence.pad_sequences(twt, maxlen=max_len, dtype='int32')\n",
        "    sentiment = model.predict(twt,batch_size=1,verbose = 2)\n",
        "    sent = np.round(np.dot(sentiment,100).tolist(),0)[0]\n",
        "    result = pd.DataFrame([sent_to_id.keys(),sent]).T\n",
        "    result.columns = [\"sentiment\",\"percentage\"]\n",
        "    result=result[result.percentage !=0]\n",
        "    return result"
      ],
      "execution_count": null,
      "outputs": []
    },
    {
      "cell_type": "code",
      "metadata": {
        "id": "ZgQBkFO7p0y8"
      },
      "source": [
        "#creating a function for visual representation of the percentages of emotions form the guven set of data.\n",
        "def plot_result(df):\n",
        "    colors=['#D50000','#000000','#008EF8','#F5B27B','#EDECEC','#D84A09','#019BBD','#FFD000','#7800A0','#098F45','#807C7C','#85DDE9','#F55E10']\n",
        "    fig = go.Figure(data=[go.Pie(labels=df.sentiment,values=df.percentage, hole=.3,textinfo='percent',hoverinfo='percent+label',marker=dict(colors=colors, line=dict(color='#000000', width=2)))])\n",
        "    fig.show()\n",
        "    colors={'love':'rgb(213,0,0)','empty':'rgb(0,0,0)',\n",
        "                    'sadness':'rgb(0,142,248)','enthusiasm':'rgb(245,178,123)',\n",
        "                    'neutral':'rgb(237,236,236)','worry':'rgb(216,74,9)',\n",
        "                    'surprise':'rgb(1,155,189)','fun':'rgb(255,208,0)',\n",
        "                    'hate':'rgb(120,0,160)','happiness':'rgb(9,143,69)',\n",
        "                    'boredom':'rgb(128,124,124)','relief':'rgb(133,221,233)',\n",
        "                    'anger':'rgb(245,94,16)'}\n",
        "    col_2={}\n",
        "    for i in result.sentiment.to_list():\n",
        "        col_2[i]=colors[i]\n",
        "    fig = px.pie(df, values='percentage', names='sentiment',color='sentiment',color_discrete_map=col_2,hole=0.3)\n",
        "    fig.show()"
      ],
      "execution_count": null,
      "outputs": []
    },
    {
      "cell_type": "code",
      "metadata": {
        "colab": {
          "base_uri": "https://localhost:8080/",
          "height": 411
        },
        "id": "8H5Ff4j7rzgS",
        "outputId": "0e711915-9bd1-4b43-eba9-cc6995ecbec4"
      },
      "source": [
        "#testing the model with a given sentence\n",
        "result =get_sentiment(model,\"Had an absolutely brilliant day ðŸ˜ loved seeing an old friend and reminiscing\")\n",
        "plot_result(result)"
      ],
      "execution_count": null,
      "outputs": [
        {
          "output_type": "display_data",
          "data": {
            "image/png": "[encoded data removed]",
            "text/plain": [
              "<Figure size 720x504 with 1 Axes>"
            ]
          },
          "metadata": {}
        }
      ]
    },
    {
      "cell_type": "code",
      "metadata": {
        "colab": {
          "base_uri": "https://localhost:8080/",
          "height": 411
        },
        "id": "1h8w5qnIrz29",
        "outputId": "da8bfdd2-b5b8-4023-b31f-65cf26af08a3"
      },
      "source": [
        "#testing the model with the given sentence\n",
        "result =get_sentiment(model,\"The pain my heart feels is just too much for it to bear. Nothing eases this pain. I can’t hold myself back. I really miss you\")\n",
        "plot_result(result)"
      ],
      "execution_count": null,
      "outputs": [
        {
          "output_type": "display_data",
          "data": {
            "image/png": "[encoded data removed]",
            "text/plain": [
              "<Figure size 720x504 with 1 Axes>"
            ]
          },
          "metadata": {}
        }
      ]
    },
    {
      "cell_type": "code",
      "metadata": {
        "colab": {
          "base_uri": "https://localhost:8080/"
        },
        "id": "W1qYDI9BEvHG",
        "outputId": "0d71e4fe-d27c-4f86-89ce-4c507121da90"
      },
      "source": [
        "#ACCURACY OF THE MODEL\n",
        "\n",
        "from sklearn.metrics import accuracy_score\n",
        "\n",
        "print(accuracy_score(Y_test_pad, model.predict(X_test_pad)))"
      ],
      "execution_count": null,
      "outputs": [
        {
          "output_type": "stream",
          "name": "stdout",
          "text": [
            "0.89\n"
          ]
        }
      ]
    },
    {
      "cell_type": "code",
      "metadata": {
        "id": "ddV3BG_A7yXl"
      },
      "source": [
        "#Roberta base model\n",
        "!pip install tensorflow\n",
        "import tensorflow as tf\n",
        "AUTO = tf.data.experimental.AUTOTUNE\n",
        "MODEL = 'roberta-base'"
      ],
      "execution_count": null,
      "outputs": []
    },
    {
      "cell_type": "code",
      "metadata": {
        "id": "Xyvt7TygqEVZ"
      },
      "source": [
        "#function to read the dta from file\n",
        "def read_data(file_name):\n",
        "    with open(file_name,'r') as f:\n",
        "        word_vocab = set() \n",
        "        word2vector = {}\n",
        "        for line in f:\n",
        "            line_ = line.strip() \n",
        "            words_Vec = line_.split()\n",
        "            word_vocab.add(words_Vec[0])\n",
        "            word2vector[words_Vec[0]] = np.array(words_Vec[1:],dtype=float)\n",
        "    print(\"Total Words in DataSet:\",len(word_vocab))\n",
        "    return word_vocab,word2vector\n"
      ],
      "execution_count": null,
      "outputs": []
    },
    {
      "cell_type": "code",
      "metadata": {
        "colab": {
          "base_uri": "https://localhost:8080/"
        },
        "id": "omL8Lgo_sPVx",
        "outputId": "94b003c5-c34f-4efd-e6eb-a6f6672582e0"
      },
      "source": [
        "#vocab, word_to_idx =read_data(\"glove.6B.50d.txt\")\n",
        "vocab, word_to_idx =read_data(\"glove.6B.200d.txt\")"
      ],
      "execution_count": null,
      "outputs": [
        {
          "output_type": "stream",
          "name": "stdout",
          "text": [
            "Total Words in DataSet: 400000\n"
          ]
        }
      ]
    },
    {
      "cell_type": "code",
      "metadata": {
        "id": "-9RLUeywu9TL"
      },
      "source": [
        "embedding_matrix = np.zeros((len(w_idx) + 1, 200))\n",
        "for word, i in w_idx.items():\n",
        "    embedding_vector = word_to_idx.get(word)\n",
        "    if embedding_vector is not None:\n",
        "        embedding_matrix[i] = embedding_vector"
      ],
      "execution_count": null,
      "outputs": []
    },
    {
      "cell_type": "code",
      "metadata": {
        "colab": {
          "base_uri": "https://localhost:8080/"
        },
        "id": "Meq8j3rLSxWa",
        "outputId": "0cd57b3a-cdde-48f7-ce9e-b78c4e9a7ff6"
      },
      "source": [
        "embed_dim = 200\n",
        "lstm_out = 250\n",
        "\n",
        "model_lstm_gwe = keras.Sequential()\n",
        "model_lstm_gwe.add(Embedding(len(w_idx) +1 , embed_dim,input_length = X_test_pad.shape[1],weights=[embedding_matrix],trainable=False))\n",
        "model_lstm_gwe.add(SpatialDropout1D(0.2))\n",
        "model_lstm_gwe.add(LSTM(lstm_out, dropout=0.2, recurrent_dropout=0.2))\n",
        "model_lstm_gwe.add(keras.layers.Dense(13, activation='softmax'))\n",
        "#adam rmsprop \n",
        "model_lstm_gwe.compile(loss = \"categorical_crossentropy\", optimizer='adam',metrics = ['accuracy'])\n",
        "print(model_lstm_gwe.summary())"
      ],
      "execution_count": null,
      "outputs": [
        {
          "output_type": "stream",
          "name": "stdout",
          "text": [
            "Model: \"sequential_2\"\n",
            "_________________________________________________________________\n",
            " Layer (type)                Output Shape              Param #   \n",
            "=================================================================\n",
            " embedding_2 (Embedding)     (None, 160, 200)          14464400  \n",
            "                                                                 \n",
            " spatial_dropout1d_2 (Spatia  (None, 160, 200)         0         \n",
            " lDropout1D)                                                     \n",
            "                                                                 \n",
            " lstm_2 (LSTM)               (None, 250)               451000    \n",
            "                                                                 \n",
            " dense_1 (Dense)             (None, 13)                3263      \n",
            "                                                                 \n",
            "=================================================================\n",
            "Total params: 14,918,663\n",
            "Trainable params: 454,263\n",
            "Non-trainable params: 14,464,400\n",
            "_________________________________________________________________\n",
            "None\n"
          ]
        }
      ]
    },
    {
      "cell_type": "code",
      "metadata": {
        "id": "9DTibcyKVjPX"
      },
      "source": [
        "batch_size = 32\n"
      ],
      "execution_count": null,
      "outputs": []
    },
    {
      "cell_type": "code",
      "metadata": {
        "colab": {
          "base_uri": "https://localhost:8080/"
        },
        "id": "VMGTJz9JV0U7",
        "outputId": "00dcb65a-8a15-433d-df6c-4c0661cf6dd0"
      },
      "source": [
        "#training the model\n",
        "model_lstm_gwe.fit(X_train_pad, y_train, epochs = Epoch, batch_size=batch_size,validation_data=(X_test_pad, y_test))"
      ],
      "execution_count": null,
      "outputs": [
        {
          "output_type": "stream",
          "name": "stdout",
          "text": [
            "Epoch 1/5\n",
            "1000/1000 [==============================] - 1136s 1s/step - loss: 2.1472 - accuracy: 0.2342 - val_loss: 2.1079 - val_accuracy: 0.2510\n",
            "Epoch 2/5\n",
            "1000/1000 [==============================] - 1131s 1s/step - loss: 2.1056 - accuracy: 0.2593 - val_loss: 2.0935 - val_accuracy: 0.2537\n",
            "Epoch 3/5\n",
            "1000/1000 [==============================] - 1131s 1s/step - loss: 2.0790 - accuracy: 0.2694 - val_loss: 2.0920 - val_accuracy: 0.2626\n",
            "Epoch 4/5\n",
            "1000/1000 [==============================] - 1129s 1s/step - loss: 2.0529 - accuracy: 0.2791 - val_loss: 2.0818 - val_accuracy: 0.2648\n",
            "Epoch 5/5\n",
            "1000/1000 [==============================] - 1130s 1s/step - loss: 2.0233 - accuracy: 0.2903 - val_loss: 2.0754 - val_accuracy: 0.2720\n"
          ]
        },
        {
          "output_type": "execute_result",
          "data": {
            "text/plain": [
              "<keras.callbacks.History at 0x7fb80596c250>"
            ]
          },
          "metadata": {},
          "execution_count": 70
        }
      ]
    },
    {
      "cell_type": "code",
      "metadata": {
        "colab": {
          "base_uri": "https://localhost:8080/",
          "height": 415
        },
        "id": "bnNXDs-5noCD",
        "outputId": "9f0801d9-1dc8-402d-b40e-508a9ebbe8d8"
      },
      "source": [
        "#testing the model with a given sentence same as used above\n",
        "result =get_sentiment(model_lstm_gwe,\"Had an absolutely brilliant day ðŸ˜ loved seeing an old friend and reminiscing\")\n",
        "plot_result(result)"
      ],
      "execution_count": null,
      "outputs": [
        {
          "output_type": "display_data",
          "data": {
            "image/png": "[encoded data removed]",
            "text/plain": [
              "<Figure size 720x504 with 1 Axes>"
            ]
          },
          "metadata": {}
        }
      ]
    },
    {
      "cell_type": "code",
      "metadata": {
        "colab": {
          "base_uri": "https://localhost:8080/",
          "height": 412
        },
        "id": "4na3yLNhqGIG",
        "outputId": "3e1c4791-79d7-4eda-ddaf-4aedecc1c39d"
      },
      "source": [
        "#testing the model with a given sentence same as used above\n",
        "result =get_sentiment(model_lstm_gwe,\"The pain my heart feels is just too much for it to bear. Nothing eases this pain. I can’t hold myself back. I really miss you\")\n",
        "plot_result(result)"
      ],
      "execution_count": null,
      "outputs": [
        {
          "output_type": "display_data",
          "data": {
            "image/png": "[encoded data removed]",
            "text/plain": [
              "<Figure size 720x504 with 1 Axes>"
            ]
          },
          "metadata": {}
        }
      ]
    },
    {
      "cell_type": "code",
      "metadata": {
        "colab": {
          "base_uri": "https://localhost:8080/"
        },
        "id": "laUvdHZEFVaj",
        "outputId": "82819ea5-0e9c-4a91-a868-0826f4211aab"
      },
      "source": [
        "#ACCURACY OF THE MODEL\n",
        "\n",
        "from sklearn.metrics import accuracy_score\n",
        "\n",
        "print(accuracy_score(ytest, model.predict(xtest)))"
      ],
      "execution_count": null,
      "outputs": [
        {
          "output_type": "stream",
          "name": "stdout",
          "text": [
            "0.8623853211009175\n"
          ]
        }
      ]
    },
    {
      "cell_type": "code",
      "metadata": {
        "id": "N8_lfxBdW_lf"
      },
      "source": [
        "def regular_encode(texts, tokenizer, maxlen=512):\n",
        "    enc_di = tokenizer.batch_encode_plus(\n",
        "        texts, \n",
        "        return_attention_masks=False, \n",
        "        return_token_type_ids=False,\n",
        "        pad_to_max_length=True,\n",
        "        #padding='max_length',\n",
        "        max_length=maxlen\n",
        "    )\n",
        "    \n",
        "    return np.array(enc_di['input_ids'])\n",
        "\n",
        "def build_model(transformer, max_len=160):\n",
        "    input_word_ids = Input(shape=(max_len,), dtype=tf.int32, name=\"input_word_ids\")\n",
        "    sequence_output = transformer(input_word_ids)[0]\n",
        "    cls_token = sequence_output[:, 0, :]\n",
        "    out = Dense(13, activation='softmax')(cls_token)\n",
        "    \n",
        "    model = Model(inputs=input_word_ids, outputs=out)\n",
        "    model.compile(Adam(lr=1e-5), loss='categorical_crossentropy', metrics=['accuracy'])\n",
        "    \n",
        "    return model"
      ],
      "execution_count": null,
      "outputs": []
    },
    {
      "cell_type": "code",
      "metadata": {
        "colab": {
          "base_uri": "https://localhost:8080/"
        },
        "id": "HIgkJJTKrwWi",
        "outputId": "b1995bd6-35d3-4c19-a28c-0c793cccec5e"
      },
      "source": [
        "#Baisc Albert Base model\n",
        "!pip install transformers\n",
        "from transformers import AutoTokenizer\n",
        "tokenizer = AutoTokenizer.from_pretrained(MODEL)\n"
      ],
      "execution_count": null,
      "outputs": [
        {
          "output_type": "stream",
          "name": "stdout",
          "text": [
            "Requirement already satisfied: transformers in /usr/local/lib/python3.7/dist-packages (4.12.5)\n",
            "Requirement already satisfied: requests in /usr/local/lib/python3.7/dist-packages (from transformers) (2.23.0)\n",
            "Requirement already satisfied: packaging>=20.0 in /usr/local/lib/python3.7/dist-packages (from transformers) (21.3)\n",
            "Requirement already satisfied: tokenizers<0.11,>=0.10.1 in /usr/local/lib/python3.7/dist-packages (from transformers) (0.10.3)\n",
            "Requirement already satisfied: pyyaml>=5.1 in /usr/local/lib/python3.7/dist-packages (from transformers) (6.0)\n",
            "Requirement already satisfied: numpy>=1.17 in /usr/local/lib/python3.7/dist-packages (from transformers) (1.19.5)\n",
            "Requirement already satisfied: filelock in /usr/local/lib/python3.7/dist-packages (from transformers) (3.4.0)\n",
            "Requirement already satisfied: regex!=2019.12.17 in /usr/local/lib/python3.7/dist-packages (from transformers) (2019.12.20)\n",
            "Requirement already satisfied: tqdm>=4.27 in /usr/local/lib/python3.7/dist-packages (from transformers) (4.62.3)\n",
            "Requirement already satisfied: sacremoses in /usr/local/lib/python3.7/dist-packages (from transformers) (0.0.46)\n",
            "Requirement already satisfied: importlib-metadata in /usr/local/lib/python3.7/dist-packages (from transformers) (4.8.2)\n",
            "Requirement already satisfied: huggingface-hub<1.0,>=0.1.0 in /usr/local/lib/python3.7/dist-packages (from transformers) (0.1.2)\n",
            "Requirement already satisfied: typing-extensions>=3.7.4.3 in /usr/local/lib/python3.7/dist-packages (from huggingface-hub<1.0,>=0.1.0->transformers) (3.10.0.2)\n",
            "Requirement already satisfied: pyparsing!=3.0.5,>=2.0.2 in /usr/local/lib/python3.7/dist-packages (from packaging>=20.0->transformers) (3.0.6)\n",
            "Requirement already satisfied: zipp>=0.5 in /usr/local/lib/python3.7/dist-packages (from importlib-metadata->transformers) (3.6.0)\n",
            "Requirement already satisfied: urllib3!=1.25.0,!=1.25.1,<1.26,>=1.21.1 in /usr/local/lib/python3.7/dist-packages (from requests->transformers) (1.24.3)\n",
            "Requirement already satisfied: chardet<4,>=3.0.2 in /usr/local/lib/python3.7/dist-packages (from requests->transformers) (3.0.4)\n",
            "Requirement already satisfied: certifi>=2017.4.17 in /usr/local/lib/python3.7/dist-packages (from requests->transformers) (2021.10.8)\n",
            "Requirement already satisfied: idna<3,>=2.5 in /usr/local/lib/python3.7/dist-packages (from requests->transformers) (2.10)\n",
            "Requirement already satisfied: joblib in /usr/local/lib/python3.7/dist-packages (from sacremoses->transformers) (1.1.0)\n",
            "Requirement already satisfied: six in /usr/local/lib/python3.7/dist-packages (from sacremoses->transformers) (1.15.0)\n",
            "Requirement already satisfied: click in /usr/local/lib/python3.7/dist-packages (from sacremoses->transformers) (7.1.2)\n"
          ]
        }
      ]
    },
    {
      "cell_type": "code",
      "metadata": {
        "id": "b_gkzTyd8kE9"
      },
      "source": [
        "AUTO = tf.data.experimental.AUTOTUNE\n",
        "MODEL = 'albert-base-v2'\n",
        "tokenizer = AutoTokenizer.from_pretrained(MODEL)\n",
        "X_train_t = regular_encode(X_train, tokenizer, maxlen=max_len)\n",
        "X_test_t = regular_encode(X_test, tokenizer, maxlen=max_len)"
      ],
      "execution_count": null,
      "outputs": []
    },
    {
      "cell_type": "code",
      "metadata": {
        "id": "gKzpyfbOr9dp"
      },
      "source": [
        "X_train_t = regular_encode(X_train, tokenizer, maxlen=max_len)\n",
        "X_test_t = regular_encode(X_test, tokenizer, maxlen=max_len)"
      ],
      "execution_count": null,
      "outputs": []
    },
    {
      "cell_type": "code",
      "metadata": {
        "id": "SQ3yXKKn85BU"
      },
      "source": [
        "train_dataset = (\n",
        "    tf.data.Dataset\n",
        "    .from_tensor_slices((X_train_t, y_train))\n",
        "    .repeat()\n",
        "    .shuffle(1995)\n",
        "    .batch(batch_size)\n",
        "    .prefetch(AUTO)\n",
        ")\n",
        "\n",
        "valid_dataset = (\n",
        "    tf.data.Dataset\n",
        "    .from_tensor_slices((X_test_t, y_test))\n",
        "    .batch(batch_size)\n",
        "    .cache()\n",
        "    .prefetch(AUTO)\n",
        ")\n"
      ],
      "execution_count": null,
      "outputs": []
    },
    {
      "cell_type": "code",
      "metadata": {
        "id": "buNcscgR88Jo"
      },
      "source": [
        "transformer_layer = TFAutoModel.from_pretrained(MODEL)\n",
        "albert = build_model(transformer_layer, max_len=max_len)\n",
        "albert.summary()"
      ],
      "execution_count": null,
      "outputs": []
    },
    {
      "cell_type": "code",
      "metadata": {
        "colab": {
          "base_uri": "https://localhost:8080/",
          "height": 415
        },
        "id": "TbHhx5Vvj6nT",
        "outputId": "44923c90-946f-4d4b-b540-2b31d14260f8"
      },
      "source": [
        "#testing of the model with one of the same sentence that is used above.\n",
        "result =get_sentiment2(albert,\"Had an absolutely brilliant day ðŸ˜ loved seeing an old friend and reminiscing\")\n",
        "plot_result(result)"
      ],
      "execution_count": null,
      "outputs": [
        {
          "output_type": "display_data",
          "data": {
            "image/png": "[encoded data removed]",
            "text/plain": [
              "<Figure size 720x504 with 1 Axes>"
            ]
          },
          "metadata": {}
        }
      ]
    },
    {
      "cell_type": "code",
      "metadata": {
        "id": "VnwlmaUQzOCR",
        "colab": {
          "base_uri": "https://localhost:8080/"
        },
        "outputId": "23948bbc-6368-4417-d81d-52524054cb00"
      },
      "source": [
        "#ACCURACY OF THE MODEL\n",
        "\n",
        "from sklearn.metrics import accuracy_score\n",
        "\n",
        "print(accuracy_score(Y_test_t, model.predict(X_test_t)))\n"
      ],
      "execution_count": null,
      "outputs": [
        {
          "output_type": "stream",
          "name": "stdout",
          "text": [
            "0.79\n"
          ]
        }
      ]
    },
    {
      "cell_type": "markdown",
      "metadata": {
        "id": "8QnuBi72GAuZ"
      },
      "source": [
        "**Accuracy of the model**\n",
        "\n",
        "89% for the LSTM model,\n",
        "\n",
        "86.23%(approx) for Robert Model,\n",
        "\n",
        "79% for the Albert Model(basic)"
      ]
    },
    {
      "cell_type": "code",
      "metadata": {
        "id": "HvVny_x5GakE"
      },
      "source": [
        ""
      ],
      "execution_count": null,
      "outputs": []
    }
  ]
}